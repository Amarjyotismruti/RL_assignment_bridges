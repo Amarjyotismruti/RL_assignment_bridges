{
 "cells": [
  {
   "cell_type": "code",
   "execution_count": 274,
   "metadata": {
    "collapsed": true,
    "deletable": true,
    "editable": true
   },
   "outputs": [],
   "source": [
    "import tensorflow as tf"
   ]
  },
  {
   "cell_type": "code",
   "execution_count": 292,
   "metadata": {
    "collapsed": false,
    "deletable": true,
    "editable": true
   },
   "outputs": [
    {
     "name": "stdout",
     "output_type": "stream",
     "text": [
      "Tensor(\"Less_5:0\", shape=(5,), dtype=bool)\n"
     ]
    }
   ],
   "source": [
    "x = tf.ones(5, name='x')\n",
    "y = tf.zeros(5, name='y')\n",
    "z1=x<0\n",
    "print z1\n",
    "z2=y!=1\n"
   ]
  },
  {
   "cell_type": "code",
   "execution_count": 285,
   "metadata": {
    "collapsed": false,
    "deletable": true,
    "editable": true
   },
   "outputs": [
    {
     "name": "stdout",
     "output_type": "stream",
     "text": [
      "[ 1.  1.  1.  1.  1.]\n",
      "[ 1.  1.  1.  1.  1.]\n",
      "[ 1.  1.  1.  1.  1.]\n",
      "[ 1.  1.  1.  1.  1.]\n",
      "[ 1.  1.  1.  1.  1.]\n",
      "[ 1.  1.  1.  1.  1.]\n",
      "[ 1.  1.  1.  1.  1.]\n",
      "[ 1.  1.  1.  1.  1.]\n",
      "[ 1.  1.  1.  1.  1.]\n",
      "[ 1.  1.  1.  1.  1.]\n"
     ]
    }
   ],
   "source": [
    "model = tf.global_variables_initializer()\n",
    "with tf.Session() as sess:\n",
    "    merged = tf.summary.merge_all()\n",
    "    writer = tf.summary.FileWriter(\"/tmp/basic\", sess.graph)\n",
    "    sess.run(model)\n",
    "    for i in xrange(10):\n",
    "        print(sess.run(z3))\n",
    "    writer.close()"
   ]
  },
  {
   "cell_type": "code",
   "execution_count": 269,
   "metadata": {
    "collapsed": false,
    "deletable": true,
    "editable": true
   },
   "outputs": [],
   "source": [
    "import sys\n",
    "sys.path.append('/home/amar/Keras-1.2.2')\n",
    "import keras\n",
    "from keras.layers import Convolution2D, Dense, Input\n",
    "                          \n",
    "input_shape=[84,84,4]\n",
    "state_input = Input(shape=(input_shape[0],input_shape[1],input_shape[2]))\n",
    "y = Convolution2D(64, 4, 4, subsample=(2, 2), activation='relu')(state_input)"
   ]
  },
  {
   "cell_type": "code",
   "execution_count": 51,
   "metadata": {
    "collapsed": false,
    "deletable": true,
    "editable": true
   },
   "outputs": [
    {
     "name": "stderr",
     "output_type": "stream",
     "text": [
      "[2017-03-23 00:34:26,765] Making new env: SpaceInvaders-v0\n"
     ]
    },
    {
     "name": "stdout",
     "output_type": "stream",
     "text": [
      "changing\n"
     ]
    }
   ],
   "source": [
    "import gym\n",
    "import numpy as np\n",
    "env=gym.make('SpaceInvaders-v0')\n",
    "for i in xrange(50):\n",
    "    a,r,t,info=env.step(2)\n",
    "  \n",
    "print \"changing\"\n",
    "for i in xrange(200):\n",
    "    a,r,t,info=env.step(3)\n",
    "    "
   ]
  },
  {
   "cell_type": "code",
   "execution_count": 273,
   "metadata": {
    "collapsed": false,
    "deletable": true,
    "editable": true
   },
   "outputs": [
    {
     "data": {
      "text/plain": [
       "'0.12.0-rc1'"
      ]
     },
     "execution_count": 273,
     "metadata": {},
     "output_type": "execute_result"
    }
   ],
   "source": [
    "import tensorflow as tf\n",
    "tf.__version__"
   ]
  }
 ],
 "metadata": {
  "kernelspec": {
   "display_name": "Python 2",
   "language": "python",
   "name": "python2"
  },
  "language_info": {
   "codemirror_mode": {
    "name": "ipython",
    "version": 2
   },
   "file_extension": ".py",
   "mimetype": "text/x-python",
   "name": "python",
   "nbconvert_exporter": "python",
   "pygments_lexer": "ipython2",
   "version": "2.7.12"
  }
 },
 "nbformat": 4,
 "nbformat_minor": 2
}
